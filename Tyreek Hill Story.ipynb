{
 "cells": [
  {
   "cell_type": "markdown",
   "metadata": {
    "collapsed": true
   },
   "source": [
    "# Why did Tyreek Hill have the most fantasy points for a WR?\n",
    "\n",
    "He did it all\n",
    "Who else in the league was comparable?"
   ]
  },
  {
   "cell_type": "code",
   "execution_count": 1,
   "metadata": {},
   "outputs": [],
   "source": [
    "import pandas as pd\n",
    "import matplotlib as plt\n",
    "import psycopg2 as pg\n",
    "import seaborn as sns\n",
    "import matplotlib.pyplot as plt\n",
    "import time"
   ]
  },
  {
   "cell_type": "code",
   "execution_count": 2,
   "metadata": {},
   "outputs": [],
   "source": [
    "%matplotlib inline\n",
    "conn = pg.connect(\"dbname=nfldb user=nfldb password=nfldb\")\n",
    "sns.set(color_codes=True)"
   ]
  },
  {
   "cell_type": "code",
   "execution_count": 3,
   "metadata": {},
   "outputs": [
    {
     "ename": "NameError",
     "evalue": "name 'df_tot' is not defined",
     "output_type": "error",
     "traceback": [
      "\u001b[0;31m\u001b[0m",
      "\u001b[0;31mNameError\u001b[0mTraceback (most recent call last)",
      "\u001b[0;32m<ipython-input-3-46c2a5bd4171>\u001b[0m in \u001b[0;36m<module>\u001b[0;34m()\u001b[0m\n\u001b[1;32m      8\u001b[0m     \u001b[0;32mfor\u001b[0m \u001b[0mx\u001b[0m \u001b[0;32min\u001b[0m \u001b[0mdf_week\u001b[0m\u001b[0;34m[\u001b[0m\u001b[0;34m'week'\u001b[0m\u001b[0;34m]\u001b[0m\u001b[0;34m:\u001b[0m\u001b[0;34m\u001b[0m\u001b[0m\n\u001b[1;32m      9\u001b[0m         \u001b[0mdf_tar\u001b[0m \u001b[0;34m=\u001b[0m \u001b[0mpd\u001b[0m\u001b[0;34m.\u001b[0m\u001b[0mread_sql\u001b[0m\u001b[0;34m(\u001b[0m\u001b[0;34m\"select game.week, player.full_name AS name, sum(play_player.receiving_tar) AS tar         from player         inner join play_player         ON player.player_id = play_player.player_id         inner join game         on game.gsis_id = play_player.gsis_id         WHERE game.season_year = '2016'         AND game.season_type = 'Regular'         AND game.finished = 'yes'         AND game.week = %(row)s         AND play_player.receiving_tar > 0         AND player.full_name = %(wr)s         group by game.week, player.full_name, player.team         order by tar desc\"\u001b[0m\u001b[0;34m,\u001b[0m \u001b[0mconn\u001b[0m\u001b[0;34m,\u001b[0m \u001b[0mparams\u001b[0m\u001b[0;34m=\u001b[0m\u001b[0;34m{\u001b[0m\u001b[0;34m'row'\u001b[0m\u001b[0;34m:\u001b[0m\u001b[0mx\u001b[0m\u001b[0;34m,\u001b[0m \u001b[0;34m'wr'\u001b[0m\u001b[0;34m:\u001b[0m\u001b[0mwr\u001b[0m\u001b[0;34m}\u001b[0m\u001b[0;34m)\u001b[0m\u001b[0;34m\u001b[0m\u001b[0m\n\u001b[0;32m---> 10\u001b[0;31m         \u001b[0mdf_tar_tot\u001b[0m \u001b[0;34m=\u001b[0m \u001b[0mdf_tot\u001b[0m\u001b[0;34m.\u001b[0m\u001b[0mappend\u001b[0m\u001b[0;34m(\u001b[0m\u001b[0mdf_rtar\u001b[0m\u001b[0;34m,\u001b[0m \u001b[0mignore_index\u001b[0m\u001b[0;34m=\u001b[0m\u001b[0mTrue\u001b[0m\u001b[0;34m)\u001b[0m\u001b[0;34m\u001b[0m\u001b[0m\n\u001b[0m\u001b[1;32m     11\u001b[0m \u001b[0;34m\u001b[0m\u001b[0m\n\u001b[1;32m     12\u001b[0m \u001b[0;34m\u001b[0m\u001b[0m\n",
      "\u001b[0;31mNameError\u001b[0m: name 'df_tot' is not defined"
     ]
    }
   ],
   "source": [
    "df_week = pd.read_sql(\"SELECT distinct game.week from game \\\n",
    "WHERE game.season_year = '2016' \\\n",
    "AND game.season_type = 'Regular' \\\n",
    "AND game.finished = 'Yes' \\\n",
    "order by week asc\", conn)\n",
    "\n",
    "df_rtar = pd.read_sql(\"select player.full_name AS wr, player.team, sum(play_player.receiving_tar) AS tar \\\n",
    "from player \\\n",
    "inner join play_player \\\n",
    "ON player.player_id = play_player.player_id \\\n",
    "inner join game \\\n",
    "on game.gsis_id = play_player.gsis_id \\\n",
    "WHERE game.season_year = '2016' \\\n",
    "AND game.season_type = 'Regular' \\\n",
    "AND play_player.receiving_tar > 0 \\\n",
    "AND player.full_name = 'Tyreek Hill' \\\n",
    "GROUP BY player.full_name, player.team \\\n",
    "ORDER by tar desc \\\n",
    "limit 9\", conn)\n",
    "\n",
    "df_tar_tot = pd.DataFrame([])\n",
    "\n",
    "for wr in df_rtar['wr']:\n",
    "    for x in df_week['week']:\n",
    "        df_tar = pd.read_sql(\"select game.week, player.full_name AS name, sum(play_player.receiving_tar) AS tar \\\n",
    "        from player \\\n",
    "        inner join play_player \\\n",
    "        ON player.player_id = play_player.player_id \\\n",
    "        inner join game \\\n",
    "        on game.gsis_id = play_player.gsis_id \\\n",
    "        WHERE game.season_year = '2016' \\\n",
    "        AND game.season_type = 'Regular' \\\n",
    "        AND game.finished = 'yes' \\\n",
    "        AND game.week = %(row)s \\\n",
    "        AND play_player.receiving_tar > 0 \\\n",
    "        AND player.full_name = %(wr)s \\\n",
    "        group by game.week, player.full_name, player.team \\\n",
    "        order by tar desc\", conn, params={'row':x, 'wr':wr})\n",
    "        df_tar_tot = df_tot.append(df_rtar, ignore_index=True)\n",
    "\n",
    "        \n",
    "        \n",
    "df_ryds = pd.read_sql(\"select player.full_name AS wr, player.team, sum(play_player.receiving_yds) AS yds \\\n",
    "from player \\\n",
    "inner join play_player \\\n",
    "ON player.player_id = play_player.player_id \\\n",
    "inner join game \\\n",
    "on game.gsis_id = play_player.gsis_id \\\n",
    "WHERE game.season_year = '2016' \\\n",
    "AND game.season_type = 'Regular' \\\n",
    "AND play_player.receiving_yds > 0 \\\n",
    "AND player.full_name = 'Tyreek Hill' \\\n",
    "GROUP BY player.full_name, player.team \\\n",
    "ORDER by yds desc \\\n",
    "limit 9\", conn)\n",
    "\n",
    "df_ryds_tot = pd.DataFrame([])\n",
    "\n",
    "for wr in df_ryds['wr']:\n",
    "    for x in df_week['week']:\n",
    "        df_ryds = pd.read_sql(\"select game.week, player.full_name AS name, sum(play_player.receiving_yds) AS yds \\\n",
    "        from player \\\n",
    "        inner join play_player \\\n",
    "        ON player.player_id = play_player.player_id \\\n",
    "        inner join game \\\n",
    "        on game.gsis_id = play_player.gsis_id \\\n",
    "        WHERE game.season_year = '2016' \\\n",
    "        AND game.season_type = 'Regular' \\\n",
    "        AND game.finished = 'yes' \\\n",
    "        AND game.week = %(row)s \\\n",
    "        AND play_player.receiving_yds > 0 \\\n",
    "        AND player.full_name = %(wr)s \\\n",
    "        group by game.week, player.full_name, player.team \\\n",
    "        order by yds desc\", conn, params={'row':x, 'wr':wr})\n",
    "        df_ryds_tot = df_ryds_tot.append(df_ryds, ignore_index=True)\n",
    "        \n",
    "# sns.lmplot(x=\"week\", y=\"tar\", col=\"name\", data=df_tot, palette=\"Set1\", aspect=1);\n",
    "\n",
    "grid = sns.FacetGrid(df_tar_tot, col=\"name\", hue=\"name\", col_wrap=3, size=5)\n",
    "grid.map(plt.axhline, y=0, ls=\":\", c=\".5\")\n",
    "grid.map(plt.plot, \"week\", \"tar\", marker=\"o\", ms=4)\n",
    "grid.set(xticks=np.arange(18), yticks=np.arange(25),\n",
    "         xlim=(.5, 17), ylim=(-1, 25))\n",
    "\n",
    "grid = sns.FacetGrid(df_ryds_tot, col=\"name\", hue=\"name\", col_wrap=3, size=5)\n",
    "grid.map(plt.axhline, y=0, ls=\":\", c=\".5\")\n",
    "grid.map(plt.plot, \"week\", \"yds\", marker=\"o\", ms=4)\n",
    "grid.set(xticks=np.arange(18), xlim=(.5, 17), ylim=(-1, 100))\n",
    "\n"
   ]
  },
  {
   "cell_type": "code",
   "execution_count": null,
   "metadata": {},
   "outputs": [],
   "source": [
    "df_wr = pd.read_sql(\"select player.full_name, player.position, player.team,\\\n",
    "sum(play_player.puntret_yds) AS punt_yds, \\\n",
    "sum(play_player.puntret_tds) AS ptun_tds, \\\n",
    "sum(play_player.kickret_ret) AS kick_ret, \\\n",
    "sum(play_player.kickret_yds) AS kick_yds, \\\n",
    "sum(play_player.kickret_tds) AS kick_tds, \\\n",
    "sum(play_player.receiving_yds) AS rec_yds, \\\n",
    "sum(play_player.receiving_tds) AS rec_tds, \\\n",
    "sum(play_player.rushing_yds) AS rush_yds, \\\n",
    "sum(play_player.rushing_tds) AS rush_tds, \\\n",
    "sum(play_player.puntret_yds) +  sum(play_player.kickret_yds) + sum(play_player.rushing_yds) + sum(play_player.receiving_yds) AS total_yds, \\\n",
    "sum(play_player.puntret_tds) +  sum(play_player.kickret_tds) + sum(play_player.rushing_tds) + sum(play_player.receiving_tds) AS total_tds \\\n",
    "from player \\\n",
    "inner join play_player \\\n",
    "ON player.player_id = play_player.player_id \\\n",
    "inner join game \\\n",
    "on game.gsis_id = play_player.gsis_id \\\n",
    "WHERE game.season_year = '2016' \\\n",
    "AND game.season_type = 'Regular' \\\n",
    "AND game.finished = 'yes' \\\n",
    "AND player.full_name = 'Tyreek Hill' \\\n",
    "group by player.full_name, player.position, player.team \\\n",
    "order by total_tds desc \\\n",
    "limit 10\", conn)\n",
    "\n",
    "df_wr"
   ]
  },
  {
   "cell_type": "code",
   "execution_count": null,
   "metadata": {},
   "outputs": [],
   "source": [
    "df_wr = pd.read_sql(\"select player.full_name, player.team, player.,\\\n",
    "sum(play_player.puntret_yds) +  sum(play_player.kickret_yds) + sum(play_player.rushing_yds) + sum(play_player.receiving_yds) AS total_yds, \\\n",
    "sum(play_player.puntret_tds) +  sum(play_player.kickret_tds) + sum(play_player.rushing_tds) + sum(play_player.receiving_tds) AS total_tds \\\n",
    "from player \\\n",
    "inner join play_player \\\n",
    "ON player.player_id = play_player.player_id \\\n",
    "inner join game \\\n",
    "on game.gsis_id = play_player.gsis_id \\\n",
    "WHERE game.season_year = '2016' \\\n",
    "AND game.season_type = 'Regular' \\\n",
    "AND game.finished = 'yes' \\\n",
    "AND player.full_name = 'Tyreek Hill' \\\n",
    "group by player.full_name, player.position, player.team \\\n",
    "order by total_tds desc \\\n",
    "limit 10\", conn)\n",
    "\n",
    "df_wr"
   ]
  },
  {
   "cell_type": "code",
   "execution_count": 4,
   "metadata": {},
   "outputs": [
    {
     "ename": "DatabaseError",
     "evalue": "Execution failed on sql 'select player.full_name, player.position, player.team,sum(play_player.puntret_yds) AS punt_yds, sum(play_player.puntret_tds) AS ptun_tds, sum(play_player.kickret_ret) AS kick_ret, sum(play_player.kickret_yds) AS kick_yds, sum(play_player.kickret_tds) AS kick_tds, sum(play_player.receiving_yds) AS rec_yds, sum(play_player.receiving_tds) AS rec_tds, sum(play_player.rushing_yds) AS rush_yds, sum(play_player.rushing_tds) AS rush_tds, sum(play_player.puntret_yds) +  sum(play_player.kickret_yds) + sum(play_player.rushing_yds) + sum(play_player.receiving_yds) AS total_yds, sum(play_player.puntret_tds) +  sum(play_player.kickret_tds) + sum(play_player.rushing_tds) + sum(play_player.receiving_tds) AS total_tds from player inner join play_player ON player.player_id = play_player.player_id inner join game on game.gsis_id = play_player.gsis_id WHERE game.season_year = '2016' AND game.season_type = 'Regular' AND game.finished = 'yes' AND sum(play_player.rushing_tds) > 0 group by player.full_name, player.position, player.team order by total_tds desc limit 10': aggregates not allowed in WHERE clause\nLINE 1: ...on_type = 'Regular' AND game.finished = 'yes' AND sum(play_p...\n                                                             ^\n",
     "output_type": "error",
     "traceback": [
      "\u001b[0;31m\u001b[0m",
      "\u001b[0;31mDatabaseError\u001b[0mTraceback (most recent call last)",
      "\u001b[0;32m<ipython-input-4-846b59b41932>\u001b[0m in \u001b[0;36m<module>\u001b[0;34m()\u001b[0m\n\u001b[0;32m----> 1\u001b[0;31m \u001b[0mdf_wr\u001b[0m \u001b[0;34m=\u001b[0m \u001b[0mpd\u001b[0m\u001b[0;34m.\u001b[0m\u001b[0mread_sql\u001b[0m\u001b[0;34m(\u001b[0m\u001b[0;34m\"select player.full_name, player.position, player.team,sum(play_player.puntret_yds) AS punt_yds, sum(play_player.puntret_tds) AS ptun_tds, sum(play_player.kickret_ret) AS kick_ret, sum(play_player.kickret_yds) AS kick_yds, sum(play_player.kickret_tds) AS kick_tds, sum(play_player.receiving_yds) AS rec_yds, sum(play_player.receiving_tds) AS rec_tds, sum(play_player.rushing_yds) AS rush_yds, sum(play_player.rushing_tds) AS rush_tds, sum(play_player.puntret_yds) +  sum(play_player.kickret_yds) + sum(play_player.rushing_yds) + sum(play_player.receiving_yds) AS total_yds, sum(play_player.puntret_tds) +  sum(play_player.kickret_tds) + sum(play_player.rushing_tds) + sum(play_player.receiving_tds) AS total_tds from player inner join play_player ON player.player_id = play_player.player_id inner join game on game.gsis_id = play_player.gsis_id WHERE game.season_year = '2016' AND game.season_type = 'Regular' AND game.finished = 'yes' AND sum(play_player.rushing_tds) > 0 group by player.full_name, player.position, player.team order by total_tds desc limit 10\"\u001b[0m\u001b[0;34m,\u001b[0m \u001b[0mconn\u001b[0m\u001b[0;34m)\u001b[0m\u001b[0;34m\u001b[0m\u001b[0m\n\u001b[0m\u001b[1;32m      2\u001b[0m \u001b[0;34m\u001b[0m\u001b[0m\n\u001b[1;32m      3\u001b[0m \u001b[0mdf_wr\u001b[0m\u001b[0;34m\u001b[0m\u001b[0m\n",
      "\u001b[0;32m/home/parallels/anaconda2/lib/python2.7/site-packages/pandas/io/sql.pyc\u001b[0m in \u001b[0;36mread_sql\u001b[0;34m(sql, con, index_col, coerce_float, params, parse_dates, columns, chunksize)\u001b[0m\n\u001b[1;32m    379\u001b[0m             \u001b[0msql\u001b[0m\u001b[0;34m,\u001b[0m \u001b[0mindex_col\u001b[0m\u001b[0;34m=\u001b[0m\u001b[0mindex_col\u001b[0m\u001b[0;34m,\u001b[0m \u001b[0mparams\u001b[0m\u001b[0;34m=\u001b[0m\u001b[0mparams\u001b[0m\u001b[0;34m,\u001b[0m\u001b[0;34m\u001b[0m\u001b[0m\n\u001b[1;32m    380\u001b[0m             \u001b[0mcoerce_float\u001b[0m\u001b[0;34m=\u001b[0m\u001b[0mcoerce_float\u001b[0m\u001b[0;34m,\u001b[0m \u001b[0mparse_dates\u001b[0m\u001b[0;34m=\u001b[0m\u001b[0mparse_dates\u001b[0m\u001b[0;34m,\u001b[0m\u001b[0;34m\u001b[0m\u001b[0m\n\u001b[0;32m--> 381\u001b[0;31m             chunksize=chunksize)\n\u001b[0m\u001b[1;32m    382\u001b[0m \u001b[0;34m\u001b[0m\u001b[0m\n\u001b[1;32m    383\u001b[0m     \u001b[0;32mtry\u001b[0m\u001b[0;34m:\u001b[0m\u001b[0;34m\u001b[0m\u001b[0m\n",
      "\u001b[0;32m/home/parallels/anaconda2/lib/python2.7/site-packages/pandas/io/sql.pyc\u001b[0m in \u001b[0;36mread_query\u001b[0;34m(self, sql, index_col, coerce_float, params, parse_dates, chunksize)\u001b[0m\n\u001b[1;32m   1411\u001b[0m \u001b[0;34m\u001b[0m\u001b[0m\n\u001b[1;32m   1412\u001b[0m         \u001b[0margs\u001b[0m \u001b[0;34m=\u001b[0m \u001b[0m_convert_params\u001b[0m\u001b[0;34m(\u001b[0m\u001b[0msql\u001b[0m\u001b[0;34m,\u001b[0m \u001b[0mparams\u001b[0m\u001b[0;34m)\u001b[0m\u001b[0;34m\u001b[0m\u001b[0m\n\u001b[0;32m-> 1413\u001b[0;31m         \u001b[0mcursor\u001b[0m \u001b[0;34m=\u001b[0m \u001b[0mself\u001b[0m\u001b[0;34m.\u001b[0m\u001b[0mexecute\u001b[0m\u001b[0;34m(\u001b[0m\u001b[0;34m*\u001b[0m\u001b[0margs\u001b[0m\u001b[0;34m)\u001b[0m\u001b[0;34m\u001b[0m\u001b[0m\n\u001b[0m\u001b[1;32m   1414\u001b[0m         \u001b[0mcolumns\u001b[0m \u001b[0;34m=\u001b[0m \u001b[0;34m[\u001b[0m\u001b[0mcol_desc\u001b[0m\u001b[0;34m[\u001b[0m\u001b[0;36m0\u001b[0m\u001b[0;34m]\u001b[0m \u001b[0;32mfor\u001b[0m \u001b[0mcol_desc\u001b[0m \u001b[0;32min\u001b[0m \u001b[0mcursor\u001b[0m\u001b[0;34m.\u001b[0m\u001b[0mdescription\u001b[0m\u001b[0;34m]\u001b[0m\u001b[0;34m\u001b[0m\u001b[0m\n\u001b[1;32m   1415\u001b[0m \u001b[0;34m\u001b[0m\u001b[0m\n",
      "\u001b[0;32m/home/parallels/anaconda2/lib/python2.7/site-packages/pandas/io/sql.pyc\u001b[0m in \u001b[0;36mexecute\u001b[0;34m(self, *args, **kwargs)\u001b[0m\n\u001b[1;32m   1388\u001b[0m             ex = DatabaseError(\n\u001b[1;32m   1389\u001b[0m                 \"Execution failed on sql '%s': %s\" % (args[0], exc))\n\u001b[0;32m-> 1390\u001b[0;31m             \u001b[0mraise_with_traceback\u001b[0m\u001b[0;34m(\u001b[0m\u001b[0mex\u001b[0m\u001b[0;34m)\u001b[0m\u001b[0;34m\u001b[0m\u001b[0m\n\u001b[0m\u001b[1;32m   1391\u001b[0m \u001b[0;34m\u001b[0m\u001b[0m\n\u001b[1;32m   1392\u001b[0m     \u001b[0;34m@\u001b[0m\u001b[0mstaticmethod\u001b[0m\u001b[0;34m\u001b[0m\u001b[0m\n",
      "\u001b[0;32m/home/parallels/anaconda2/lib/python2.7/site-packages/pandas/io/sql.pyc\u001b[0m in \u001b[0;36mexecute\u001b[0;34m(self, *args, **kwargs)\u001b[0m\n\u001b[1;32m   1376\u001b[0m                 \u001b[0mcur\u001b[0m\u001b[0;34m.\u001b[0m\u001b[0mexecute\u001b[0m\u001b[0;34m(\u001b[0m\u001b[0;34m*\u001b[0m\u001b[0margs\u001b[0m\u001b[0;34m,\u001b[0m \u001b[0;34m**\u001b[0m\u001b[0mkwargs\u001b[0m\u001b[0;34m)\u001b[0m\u001b[0;34m\u001b[0m\u001b[0m\n\u001b[1;32m   1377\u001b[0m             \u001b[0;32melse\u001b[0m\u001b[0;34m:\u001b[0m\u001b[0;34m\u001b[0m\u001b[0m\n\u001b[0;32m-> 1378\u001b[0;31m                 \u001b[0mcur\u001b[0m\u001b[0;34m.\u001b[0m\u001b[0mexecute\u001b[0m\u001b[0;34m(\u001b[0m\u001b[0;34m*\u001b[0m\u001b[0margs\u001b[0m\u001b[0;34m)\u001b[0m\u001b[0;34m\u001b[0m\u001b[0m\n\u001b[0m\u001b[1;32m   1379\u001b[0m             \u001b[0;32mreturn\u001b[0m \u001b[0mcur\u001b[0m\u001b[0;34m\u001b[0m\u001b[0m\n\u001b[1;32m   1380\u001b[0m         \u001b[0;32mexcept\u001b[0m \u001b[0mException\u001b[0m \u001b[0;32mas\u001b[0m \u001b[0mexc\u001b[0m\u001b[0;34m:\u001b[0m\u001b[0;34m\u001b[0m\u001b[0m\n",
      "\u001b[0;31mDatabaseError\u001b[0m: Execution failed on sql 'select player.full_name, player.position, player.team,sum(play_player.puntret_yds) AS punt_yds, sum(play_player.puntret_tds) AS ptun_tds, sum(play_player.kickret_ret) AS kick_ret, sum(play_player.kickret_yds) AS kick_yds, sum(play_player.kickret_tds) AS kick_tds, sum(play_player.receiving_yds) AS rec_yds, sum(play_player.receiving_tds) AS rec_tds, sum(play_player.rushing_yds) AS rush_yds, sum(play_player.rushing_tds) AS rush_tds, sum(play_player.puntret_yds) +  sum(play_player.kickret_yds) + sum(play_player.rushing_yds) + sum(play_player.receiving_yds) AS total_yds, sum(play_player.puntret_tds) +  sum(play_player.kickret_tds) + sum(play_player.rushing_tds) + sum(play_player.receiving_tds) AS total_tds from player inner join play_player ON player.player_id = play_player.player_id inner join game on game.gsis_id = play_player.gsis_id WHERE game.season_year = '2016' AND game.season_type = 'Regular' AND game.finished = 'yes' AND sum(play_player.rushing_tds) > 0 group by player.full_name, player.position, player.team order by total_tds desc limit 10': aggregates not allowed in WHERE clause\nLINE 1: ...on_type = 'Regular' AND game.finished = 'yes' AND sum(play_p...\n                                                             ^\n"
     ]
    }
   ],
   "source": [
    "df_wr = pd.read_sql(\"select player.full_name, player.position, player.team,\\\n",
    "sum(play_player.puntret_yds) AS punt_yds, \\\n",
    "sum(play_player.puntret_tds) AS ptun_tds, \\\n",
    "sum(play_player.kickret_ret) AS kick_ret, \\\n",
    "sum(play_player.kickret_yds) AS kick_yds, \\\n",
    "sum(play_player.kickret_tds) AS kick_tds, \\\n",
    "sum(play_player.receiving_yds) AS rec_yds, \\\n",
    "sum(play_player.receiving_tds) AS rec_tds, \\\n",
    "sum(play_player.rushing_yds) AS rush_yds, \\\n",
    "sum(play_player.rushing_tds) AS rush_tds, \\\n",
    "sum(play_player.puntret_yds) +  sum(play_player.kickret_yds) + sum(play_player.rushing_yds) + sum(play_player.receiving_yds) AS total_yds, \\\n",
    "sum(play_player.puntret_tds) +  sum(play_player.kickret_tds) + sum(play_player.rushing_tds) + sum(play_player.receiving_tds) AS total_tds \\\n",
    "from player \\\n",
    "inner join play_player \\\n",
    "ON player.player_id = play_player.player_id \\\n",
    "inner join game \\\n",
    "on game.gsis_id = play_player.gsis_id \\\n",
    "WHERE game.season_year = '2016' \\\n",
    "AND game.season_type = 'Regular' \\\n",
    "AND game.finished = 'yes' \\\n",
    "AND sum(play_player.rushing_tds) > 0 \\\n",
    "group by player.full_name, player.position, player.team \\\n",
    "order by total_tds desc \\\n",
    "limit 10\", conn)\n",
    "\n",
    "df_wr"
   ]
  },
  {
   "cell_type": "code",
   "execution_count": null,
   "metadata": {
    "collapsed": true
   },
   "outputs": [],
   "source": []
  }
 ],
 "metadata": {
  "kernelspec": {
   "display_name": "Python 2",
   "language": "python",
   "name": "python2"
  },
  "language_info": {
   "codemirror_mode": {
    "name": "ipython",
    "version": 2
   },
   "file_extension": ".py",
   "mimetype": "text/x-python",
   "name": "python",
   "nbconvert_exporter": "python",
   "pygments_lexer": "ipython2",
   "version": "2.7.15"
  }
 },
 "nbformat": 4,
 "nbformat_minor": 1
}
